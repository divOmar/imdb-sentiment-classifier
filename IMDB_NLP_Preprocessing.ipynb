{
  "cells": [
    {
      "cell_type": "code",
      "execution_count": 1,
      "metadata": {
        "colab": {
          "base_uri": "https://localhost:8080/"
        },
        "id": "mqoXdtfre0WP",
        "outputId": "8e3a3515-d57b-4d48-b222-fc9ff6cd296f"
      },
      "outputs": [
        {
          "name": "stdout",
          "output_type": "stream",
          "text": [
            "Data source import complete.\n"
          ]
        }
      ],
      "source": [
        "\n",
        "import kagglehub\n",
        "imdb_dataset_of_50k_movie_reviews_path = kagglehub.dataset_download('lakshmi25npathi/imdb-dataset-of-50k-movie-reviews')\n",
        "\n",
        "print('Data source import complete.')\n"
      ]
    },
    {
      "cell_type": "markdown",
      "metadata": {
        "id": "dOJe14BEe0WR"
      },
      "source": [
        "# Import Libraries"
      ]
    },
    {
      "cell_type": "code",
      "execution_count": null,
      "metadata": {
        "execution": {
          "iopub.execute_input": "2025-08-13T15:14:48.836005Z",
          "iopub.status.busy": "2025-08-13T15:14:48.835698Z",
          "iopub.status.idle": "2025-08-13T15:14:48.840686Z",
          "shell.execute_reply": "2025-08-13T15:14:48.839891Z",
          "shell.execute_reply.started": "2025-08-13T15:14:48.835983Z"
        },
        "id": "KMkp51Sve0WS",
        "trusted": true
      },
      "outputs": [],
      "source": [
        "import numpy as np  \n",
        "import pandas as pd\n",
        "import re\n",
        "import nltk\n",
        "from nltk.tokenize import word_tokenize\n",
        "from nltk.stem import PorterStemmer\n",
        "import spacy\n",
        "from sklearn.model_selection import train_test_split\n",
        "from sklearn.feature_extraction.text import CountVectorizer, TfidfVectorizer"
      ]
    },
    {
      "cell_type": "markdown",
      "metadata": {
        "id": "tJLv2Zfte0WS"
      },
      "source": [
        "# Load Data & EDA"
      ]
    },
    {
      "cell_type": "code",
      "execution_count": 3,
      "metadata": {
        "colab": {
          "base_uri": "https://localhost:8080/",
          "height": 206
        },
        "execution": {
          "iopub.execute_input": "2025-08-13T15:09:34.862204Z",
          "iopub.status.busy": "2025-08-13T15:09:34.861746Z",
          "iopub.status.idle": "2025-08-13T15:09:36.333972Z",
          "shell.execute_reply": "2025-08-13T15:09:36.333222Z",
          "shell.execute_reply.started": "2025-08-13T15:09:34.862183Z"
        },
        "id": "GYyhQ0T8e0WT",
        "outputId": "6d351f39-e5a1-47fb-ff86-143e60e5da44",
        "trusted": true
      },
      "outputs": [
        {
          "data": {
            "application/vnd.google.colaboratory.intrinsic+json": {
              "summary": "{\n  \"name\": \"df\",\n  \"rows\": 50000,\n  \"fields\": [\n    {\n      \"column\": \"review\",\n      \"properties\": {\n        \"dtype\": \"string\",\n        \"num_unique_values\": 49582,\n        \"samples\": [\n          \"\\\"Soul Plane\\\" is a horrible attempt at comedy that only should appeal people with thick skulls, bloodshot eyes and furry pawns. <br /><br />The plot is not only incoherent but also non-existent, acting is mostly sub sub-par with a gang of highly moronic and dreadful characters thrown in for bad measure, jokes are often spotted miles ahead and almost never even a bit amusing. This movie lacks any structure and is full of racial stereotypes that must have seemed old even in the fifties, the only thing it really has going for it is some pretty ladies, but really, if you want that you can rent something from the \\\"Adult\\\" section. OK?<br /><br />I can hardly see anything here to recommend since you'll probably have a lot a better and productive time chasing rats with a sledgehammer or inventing waterproof teabags or whatever.<br /><br />2/10\",\n          \"Guest from the Future tells a fascinating story of time travel, friendship, battle of good and evil -- all with a small budget, child actors, and few special effects. Something for Spielberg and Lucas to learn from. ;) A sixth-grader Kolya \\\"Nick\\\" Gerasimov finds a time machine in the basement of a decrepit building and travels 100 years into the future. He discovers a near-perfect, utopian society where robots play guitars and write poetry, everyone is kind to each other and people enjoy everything technology has to offer. Alice is the daughter of a prominent scientist who invented a device called Mielophone that allows to read minds of humans and animals. The device can be put to both good and bad use, depending on whose hands it falls into. When two evil space pirates from Saturn who want to rule the universe attempt to steal Mielophone, it falls into the hands of 20th century school boy Nick. With the pirates hot on his tracks, he travels back to his time, followed by the pirates, and Alice. Chaos, confusion and funny situations follow as the luckless pirates try to blend in with the earthlings. Alice enrolls in the same school Nick goes to and demonstrates superhuman abilities in PE class. The catch is, Alice doesn't know what Nick looks like, while the pirates do. Also, the pirates are able to change their appearance and turn literally into anyone. (Hmm, I wonder if this is where James Cameron got the idea for Terminator...) Who gets to Nick -- and Mielophone -- first? Excellent plot, non-stop adventures, and great soundtrack. I wish Hollywood made kid movies like this one...\",\n          \"\\\"National Treasure\\\" (2004) is a thoroughly misguided hodge-podge of plot entanglements that borrow from nearly every cloak and dagger government conspiracy clich\\u00e9 that has ever been written. The film stars Nicholas Cage as Benjamin Franklin Gates (how precious is that, I ask you?); a seemingly normal fellow who, for no other reason than being of a lineage of like-minded misguided fortune hunters, decides to steal a 'national treasure' that has been hidden by the United States founding fathers. After a bit of subtext and background that plays laughably (unintentionally) like Indiana Jones meets The Patriot, the film degenerates into one misguided whimsy after another \\u0096 attempting to create a 'Stanley Goodspeed' regurgitation of Nicholas Cage and launch the whole convoluted mess forward with a series of high octane, but disconnected misadventures.<br /><br />The relevancy and logic to having George Washington and his motley crew of patriots burying a king's ransom someplace on native soil, and then, going through the meticulous plan of leaving clues scattered throughout U.S. currency art work, is something that director Jon Turteltaub never quite gets around to explaining. Couldn't Washington found better usage for such wealth during the start up of the country? Hence, we are left with a mystery built on top of an enigma that is already on shaky ground by the time Ben appoints himself the new custodian of this untold wealth. Ben's intentions are noble \\u0096 if confusing. He's set on protecting the treasure. For who and when?\\u0085your guess is as good as mine.<br /><br />But there are a few problems with Ben's crusade. First up, his friend, Ian Holmes (Sean Bean) decides that he can't wait for Ben to make up his mind about stealing the Declaration of Independence from the National Archives (oh, yeah \\u0096 brilliant idea!). Presumably, the back of that famous document holds the secret answer to the ultimate fortune. So Ian tries to kill Ben. The assassination attempt is, of course, unsuccessful, if overly melodramatic. It also affords Ben the opportunity to pick up, and pick on, the very sultry curator of the archives, Abigail Chase (Diane Kruger). She thinks Ben is clearly a nut \\u0096 at least at the beginning. But true to action/romance form, Abby's resolve melts quicker than you can say, \\\"is that the Hope Diamond?\\\" The film moves into full X-File-ish mode, as the FBI, mistakenly believing that Ben is behind the theft, retaliate in various benign ways that lead to a multi-layering of action sequences reminiscent of Mission Impossible meets The Fugitive. Honestly, don't those guys ever get 'intelligence' information that is correct? In the final analysis, \\\"National Treasure\\\" isn't great film making, so much as it's a patchwork rehash of tired old bits from other movies, woven together from scraps, the likes of which would make IL' Betsy Ross blush.<br /><br />The Buena Vista DVD delivers a far more generous treatment than this film is deserving of. The anamorphic widescreen picture exhibits a very smooth and finely detailed image with very rich colors, natural flesh tones, solid blacks and clean whites. The stylized image is also free of blemishes and digital enhancements. The audio is 5.1 and delivers a nice sonic boom to your side and rear speakers with intensity and realism. Extras include a host of promotional junket material that is rather deep and over the top in its explanation of how and why this film was made. If only, as an audience, we had had more clarification as to why Ben and co. were chasing after an illusive treasure, this might have been one good flick. Extras conclude with the theatrical trailer, audio commentary and deleted scenes. Not for the faint-hearted \\u0096 just the thick-headed.\"\n        ],\n        \"semantic_type\": \"\",\n        \"description\": \"\"\n      }\n    },\n    {\n      \"column\": \"sentiment\",\n      \"properties\": {\n        \"dtype\": \"category\",\n        \"num_unique_values\": 2,\n        \"samples\": [\n          \"negative\",\n          \"positive\"\n        ],\n        \"semantic_type\": \"\",\n        \"description\": \"\"\n      }\n    }\n  ]\n}",
              "type": "dataframe",
              "variable_name": "df"
            },
            "text/html": [
              "\n",
              "  <div id=\"df-dc712128-1ad7-4861-8f81-3f0e399e046a\" class=\"colab-df-container\">\n",
              "    <div>\n",
              "<style scoped>\n",
              "    .dataframe tbody tr th:only-of-type {\n",
              "        vertical-align: middle;\n",
              "    }\n",
              "\n",
              "    .dataframe tbody tr th {\n",
              "        vertical-align: top;\n",
              "    }\n",
              "\n",
              "    .dataframe thead th {\n",
              "        text-align: right;\n",
              "    }\n",
              "</style>\n",
              "<table border=\"1\" class=\"dataframe\">\n",
              "  <thead>\n",
              "    <tr style=\"text-align: right;\">\n",
              "      <th></th>\n",
              "      <th>review</th>\n",
              "      <th>sentiment</th>\n",
              "    </tr>\n",
              "  </thead>\n",
              "  <tbody>\n",
              "    <tr>\n",
              "      <th>0</th>\n",
              "      <td>One of the other reviewers has mentioned that ...</td>\n",
              "      <td>positive</td>\n",
              "    </tr>\n",
              "    <tr>\n",
              "      <th>1</th>\n",
              "      <td>A wonderful little production. &lt;br /&gt;&lt;br /&gt;The...</td>\n",
              "      <td>positive</td>\n",
              "    </tr>\n",
              "    <tr>\n",
              "      <th>2</th>\n",
              "      <td>I thought this was a wonderful way to spend ti...</td>\n",
              "      <td>positive</td>\n",
              "    </tr>\n",
              "    <tr>\n",
              "      <th>3</th>\n",
              "      <td>Basically there's a family where a little boy ...</td>\n",
              "      <td>negative</td>\n",
              "    </tr>\n",
              "    <tr>\n",
              "      <th>4</th>\n",
              "      <td>Petter Mattei's \"Love in the Time of Money\" is...</td>\n",
              "      <td>positive</td>\n",
              "    </tr>\n",
              "  </tbody>\n",
              "</table>\n",
              "</div>\n",
              "    <div class=\"colab-df-buttons\">\n",
              "\n",
              "  <div class=\"colab-df-container\">\n",
              "    <button class=\"colab-df-convert\" onclick=\"convertToInteractive('df-dc712128-1ad7-4861-8f81-3f0e399e046a')\"\n",
              "            title=\"Convert this dataframe to an interactive table.\"\n",
              "            style=\"display:none;\">\n",
              "\n",
              "  <svg xmlns=\"http://www.w3.org/2000/svg\" height=\"24px\" viewBox=\"0 -960 960 960\">\n",
              "    <path d=\"M120-120v-720h720v720H120Zm60-500h600v-160H180v160Zm220 220h160v-160H400v160Zm0 220h160v-160H400v160ZM180-400h160v-160H180v160Zm440 0h160v-160H620v160ZM180-180h160v-160H180v160Zm440 0h160v-160H620v160Z\"/>\n",
              "  </svg>\n",
              "    </button>\n",
              "\n",
              "  <style>\n",
              "    .colab-df-container {\n",
              "      display:flex;\n",
              "      gap: 12px;\n",
              "    }\n",
              "\n",
              "    .colab-df-convert {\n",
              "      background-color: #E8F0FE;\n",
              "      border: none;\n",
              "      border-radius: 50%;\n",
              "      cursor: pointer;\n",
              "      display: none;\n",
              "      fill: #1967D2;\n",
              "      height: 32px;\n",
              "      padding: 0 0 0 0;\n",
              "      width: 32px;\n",
              "    }\n",
              "\n",
              "    .colab-df-convert:hover {\n",
              "      background-color: #E2EBFA;\n",
              "      box-shadow: 0px 1px 2px rgba(60, 64, 67, 0.3), 0px 1px 3px 1px rgba(60, 64, 67, 0.15);\n",
              "      fill: #174EA6;\n",
              "    }\n",
              "\n",
              "    .colab-df-buttons div {\n",
              "      margin-bottom: 4px;\n",
              "    }\n",
              "\n",
              "    [theme=dark] .colab-df-convert {\n",
              "      background-color: #3B4455;\n",
              "      fill: #D2E3FC;\n",
              "    }\n",
              "\n",
              "    [theme=dark] .colab-df-convert:hover {\n",
              "      background-color: #434B5C;\n",
              "      box-shadow: 0px 1px 3px 1px rgba(0, 0, 0, 0.15);\n",
              "      filter: drop-shadow(0px 1px 2px rgba(0, 0, 0, 0.3));\n",
              "      fill: #FFFFFF;\n",
              "    }\n",
              "  </style>\n",
              "\n",
              "    <script>\n",
              "      const buttonEl =\n",
              "        document.querySelector('#df-dc712128-1ad7-4861-8f81-3f0e399e046a button.colab-df-convert');\n",
              "      buttonEl.style.display =\n",
              "        google.colab.kernel.accessAllowed ? 'block' : 'none';\n",
              "\n",
              "      async function convertToInteractive(key) {\n",
              "        const element = document.querySelector('#df-dc712128-1ad7-4861-8f81-3f0e399e046a');\n",
              "        const dataTable =\n",
              "          await google.colab.kernel.invokeFunction('convertToInteractive',\n",
              "                                                    [key], {});\n",
              "        if (!dataTable) return;\n",
              "\n",
              "        const docLinkHtml = 'Like what you see? Visit the ' +\n",
              "          '<a target=\"_blank\" href=https://colab.research.google.com/notebooks/data_table.ipynb>data table notebook</a>'\n",
              "          + ' to learn more about interactive tables.';\n",
              "        element.innerHTML = '';\n",
              "        dataTable['output_type'] = 'display_data';\n",
              "        await google.colab.output.renderOutput(dataTable, element);\n",
              "        const docLink = document.createElement('div');\n",
              "        docLink.innerHTML = docLinkHtml;\n",
              "        element.appendChild(docLink);\n",
              "      }\n",
              "    </script>\n",
              "  </div>\n",
              "\n",
              "\n",
              "    <div id=\"df-d1b682a1-d482-4070-ab47-6ba9f469ed02\">\n",
              "      <button class=\"colab-df-quickchart\" onclick=\"quickchart('df-d1b682a1-d482-4070-ab47-6ba9f469ed02')\"\n",
              "                title=\"Suggest charts\"\n",
              "                style=\"display:none;\">\n",
              "\n",
              "<svg xmlns=\"http://www.w3.org/2000/svg\" height=\"24px\"viewBox=\"0 0 24 24\"\n",
              "     width=\"24px\">\n",
              "    <g>\n",
              "        <path d=\"M19 3H5c-1.1 0-2 .9-2 2v14c0 1.1.9 2 2 2h14c1.1 0 2-.9 2-2V5c0-1.1-.9-2-2-2zM9 17H7v-7h2v7zm4 0h-2V7h2v10zm4 0h-2v-4h2v4z\"/>\n",
              "    </g>\n",
              "</svg>\n",
              "      </button>\n",
              "\n",
              "<style>\n",
              "  .colab-df-quickchart {\n",
              "      --bg-color: #E8F0FE;\n",
              "      --fill-color: #1967D2;\n",
              "      --hover-bg-color: #E2EBFA;\n",
              "      --hover-fill-color: #174EA6;\n",
              "      --disabled-fill-color: #AAA;\n",
              "      --disabled-bg-color: #DDD;\n",
              "  }\n",
              "\n",
              "  [theme=dark] .colab-df-quickchart {\n",
              "      --bg-color: #3B4455;\n",
              "      --fill-color: #D2E3FC;\n",
              "      --hover-bg-color: #434B5C;\n",
              "      --hover-fill-color: #FFFFFF;\n",
              "      --disabled-bg-color: #3B4455;\n",
              "      --disabled-fill-color: #666;\n",
              "  }\n",
              "\n",
              "  .colab-df-quickchart {\n",
              "    background-color: var(--bg-color);\n",
              "    border: none;\n",
              "    border-radius: 50%;\n",
              "    cursor: pointer;\n",
              "    display: none;\n",
              "    fill: var(--fill-color);\n",
              "    height: 32px;\n",
              "    padding: 0;\n",
              "    width: 32px;\n",
              "  }\n",
              "\n",
              "  .colab-df-quickchart:hover {\n",
              "    background-color: var(--hover-bg-color);\n",
              "    box-shadow: 0 1px 2px rgba(60, 64, 67, 0.3), 0 1px 3px 1px rgba(60, 64, 67, 0.15);\n",
              "    fill: var(--button-hover-fill-color);\n",
              "  }\n",
              "\n",
              "  .colab-df-quickchart-complete:disabled,\n",
              "  .colab-df-quickchart-complete:disabled:hover {\n",
              "    background-color: var(--disabled-bg-color);\n",
              "    fill: var(--disabled-fill-color);\n",
              "    box-shadow: none;\n",
              "  }\n",
              "\n",
              "  .colab-df-spinner {\n",
              "    border: 2px solid var(--fill-color);\n",
              "    border-color: transparent;\n",
              "    border-bottom-color: var(--fill-color);\n",
              "    animation:\n",
              "      spin 1s steps(1) infinite;\n",
              "  }\n",
              "\n",
              "  @keyframes spin {\n",
              "    0% {\n",
              "      border-color: transparent;\n",
              "      border-bottom-color: var(--fill-color);\n",
              "      border-left-color: var(--fill-color);\n",
              "    }\n",
              "    20% {\n",
              "      border-color: transparent;\n",
              "      border-left-color: var(--fill-color);\n",
              "      border-top-color: var(--fill-color);\n",
              "    }\n",
              "    30% {\n",
              "      border-color: transparent;\n",
              "      border-left-color: var(--fill-color);\n",
              "      border-top-color: var(--fill-color);\n",
              "      border-right-color: var(--fill-color);\n",
              "    }\n",
              "    40% {\n",
              "      border-color: transparent;\n",
              "      border-right-color: var(--fill-color);\n",
              "      border-top-color: var(--fill-color);\n",
              "    }\n",
              "    60% {\n",
              "      border-color: transparent;\n",
              "      border-right-color: var(--fill-color);\n",
              "    }\n",
              "    80% {\n",
              "      border-color: transparent;\n",
              "      border-right-color: var(--fill-color);\n",
              "      border-bottom-color: var(--fill-color);\n",
              "    }\n",
              "    90% {\n",
              "      border-color: transparent;\n",
              "      border-bottom-color: var(--fill-color);\n",
              "    }\n",
              "  }\n",
              "</style>\n",
              "\n",
              "      <script>\n",
              "        async function quickchart(key) {\n",
              "          const quickchartButtonEl =\n",
              "            document.querySelector('#' + key + ' button');\n",
              "          quickchartButtonEl.disabled = true;  // To prevent multiple clicks.\n",
              "          quickchartButtonEl.classList.add('colab-df-spinner');\n",
              "          try {\n",
              "            const charts = await google.colab.kernel.invokeFunction(\n",
              "                'suggestCharts', [key], {});\n",
              "          } catch (error) {\n",
              "            console.error('Error during call to suggestCharts:', error);\n",
              "          }\n",
              "          quickchartButtonEl.classList.remove('colab-df-spinner');\n",
              "          quickchartButtonEl.classList.add('colab-df-quickchart-complete');\n",
              "        }\n",
              "        (() => {\n",
              "          let quickchartButtonEl =\n",
              "            document.querySelector('#df-d1b682a1-d482-4070-ab47-6ba9f469ed02 button');\n",
              "          quickchartButtonEl.style.display =\n",
              "            google.colab.kernel.accessAllowed ? 'block' : 'none';\n",
              "        })();\n",
              "      </script>\n",
              "    </div>\n",
              "\n",
              "    </div>\n",
              "  </div>\n"
            ],
            "text/plain": [
              "                                              review sentiment\n",
              "0  One of the other reviewers has mentioned that ...  positive\n",
              "1  A wonderful little production. <br /><br />The...  positive\n",
              "2  I thought this was a wonderful way to spend ti...  positive\n",
              "3  Basically there's a family where a little boy ...  negative\n",
              "4  Petter Mattei's \"Love in the Time of Money\" is...  positive"
            ]
          },
          "execution_count": 3,
          "metadata": {},
          "output_type": "execute_result"
        }
      ],
      "source": [
        "df = pd.read_csv('/kaggle/input/imdb-dataset-of-50k-movie-reviews/IMDB Dataset.csv')\n",
        "df.head(5)"
      ]
    },
    {
      "cell_type": "code",
      "execution_count": 4,
      "metadata": {
        "colab": {
          "base_uri": "https://localhost:8080/"
        },
        "execution": {
          "iopub.execute_input": "2025-08-13T15:09:36.335013Z",
          "iopub.status.busy": "2025-08-13T15:09:36.334761Z",
          "iopub.status.idle": "2025-08-13T15:09:36.365831Z",
          "shell.execute_reply": "2025-08-13T15:09:36.365055Z",
          "shell.execute_reply.started": "2025-08-13T15:09:36.334994Z"
        },
        "id": "2asViCMoe0WT",
        "outputId": "fbbe8a30-4b8f-42dd-9a90-5c91f08e7fb7",
        "trusted": true
      },
      "outputs": [
        {
          "name": "stdout",
          "output_type": "stream",
          "text": [
            "<class 'pandas.core.frame.DataFrame'>\n",
            "RangeIndex: 50000 entries, 0 to 49999\n",
            "Data columns (total 2 columns):\n",
            " #   Column     Non-Null Count  Dtype \n",
            "---  ------     --------------  ----- \n",
            " 0   review     50000 non-null  object\n",
            " 1   sentiment  50000 non-null  object\n",
            "dtypes: object(2)\n",
            "memory usage: 781.4+ KB\n"
          ]
        }
      ],
      "source": [
        "df.info()"
      ]
    },
    {
      "cell_type": "code",
      "execution_count": 5,
      "metadata": {
        "colab": {
          "base_uri": "https://localhost:8080/",
          "height": 147
        },
        "execution": {
          "iopub.execute_input": "2025-08-13T15:09:36.36694Z",
          "iopub.status.busy": "2025-08-13T15:09:36.366626Z",
          "iopub.status.idle": "2025-08-13T15:09:36.383125Z",
          "shell.execute_reply": "2025-08-13T15:09:36.382274Z",
          "shell.execute_reply.started": "2025-08-13T15:09:36.366919Z"
        },
        "id": "hahaT5mze0WT",
        "outputId": "4b77a27c-bd71-429a-b508-6b566a3bef79",
        "trusted": true
      },
      "outputs": [
        {
          "data": {
            "text/html": [
              "<div>\n",
              "<style scoped>\n",
              "    .dataframe tbody tr th:only-of-type {\n",
              "        vertical-align: middle;\n",
              "    }\n",
              "\n",
              "    .dataframe tbody tr th {\n",
              "        vertical-align: top;\n",
              "    }\n",
              "\n",
              "    .dataframe thead th {\n",
              "        text-align: right;\n",
              "    }\n",
              "</style>\n",
              "<table border=\"1\" class=\"dataframe\">\n",
              "  <thead>\n",
              "    <tr style=\"text-align: right;\">\n",
              "      <th></th>\n",
              "      <th>0</th>\n",
              "    </tr>\n",
              "  </thead>\n",
              "  <tbody>\n",
              "    <tr>\n",
              "      <th>review</th>\n",
              "      <td>0</td>\n",
              "    </tr>\n",
              "    <tr>\n",
              "      <th>sentiment</th>\n",
              "      <td>0</td>\n",
              "    </tr>\n",
              "  </tbody>\n",
              "</table>\n",
              "</div><br><label><b>dtype:</b> int64</label>"
            ],
            "text/plain": [
              "review       0\n",
              "sentiment    0\n",
              "dtype: int64"
            ]
          },
          "execution_count": 5,
          "metadata": {},
          "output_type": "execute_result"
        }
      ],
      "source": [
        "df.isna().sum()"
      ]
    },
    {
      "cell_type": "markdown",
      "metadata": {
        "id": "7CjBSPyNe0WU"
      },
      "source": [
        "### Splitting Data"
      ]
    },
    {
      "cell_type": "code",
      "execution_count": 6,
      "metadata": {
        "execution": {
          "iopub.execute_input": "2025-08-13T15:09:36.385544Z",
          "iopub.status.busy": "2025-08-13T15:09:36.385308Z",
          "iopub.status.idle": "2025-08-13T15:09:36.481567Z",
          "shell.execute_reply": "2025-08-13T15:09:36.480863Z",
          "shell.execute_reply.started": "2025-08-13T15:09:36.385525Z"
        },
        "id": "quHaxRWje0WU",
        "trusted": true
      },
      "outputs": [],
      "source": [
        "train_df, temp_df = train_test_split(\n",
        "    df,\n",
        "    train_size=5000,\n",
        "    random_state=42,\n",
        "    stratify=df['sentiment']\n",
        ")\n",
        "\n",
        "test_df, _ = train_test_split(\n",
        "    temp_df,\n",
        "    train_size=1000,\n",
        "    random_state=42,\n",
        "    stratify=temp_df['sentiment']\n",
        ")\n",
        "\n",
        "X_train = train_df['review'].tolist()\n",
        "y_train = train_df['sentiment'].tolist()\n",
        "X_test = test_df['review'].tolist()\n",
        "y_test = test_df['sentiment'].tolist()"
      ]
    },
    {
      "cell_type": "markdown",
      "metadata": {
        "id": "QZG1r7eue0WU"
      },
      "source": [
        "# Preprocessing"
      ]
    },
    {
      "cell_type": "code",
      "execution_count": 7,
      "metadata": {
        "id": "onYla0YVpzVQ"
      },
      "outputs": [],
      "source": [
        "from bs4 import BeautifulSoup\n",
        "\n",
        "#Removing the html strips\n",
        "def strip_html(text):\n",
        "    soup = BeautifulSoup(text, \"html.parser\")\n",
        "    return soup.get_text()\n",
        "\n",
        "#Removing the square brackets\n",
        "def remove_between_square_brackets(text):\n",
        "    return re.sub(r'\\[[^]]*\\]', '', text)\n",
        "\n",
        "#Removing the noisy text\n",
        "def denoise_text(text):\n",
        "    text = strip_html(text)\n",
        "    text = remove_between_square_brackets(text)\n",
        "    return text\n",
        "\n",
        "# Apply the denoising function to the training and testing data\n",
        "X_train = [denoise_text(review) for review in X_train]\n",
        "X_test = [denoise_text(review) for review in X_test]"
      ]
    },
    {
      "cell_type": "markdown",
      "metadata": {
        "id": "1cnZhbure0WU"
      },
      "source": [
        "### Tokenization & Normalization"
      ]
    },
    {
      "cell_type": "code",
      "execution_count": 8,
      "metadata": {
        "colab": {
          "base_uri": "https://localhost:8080/"
        },
        "execution": {
          "iopub.execute_input": "2025-08-13T15:09:36.482655Z",
          "iopub.status.busy": "2025-08-13T15:09:36.482394Z",
          "iopub.status.idle": "2025-08-13T15:09:40.810823Z",
          "shell.execute_reply": "2025-08-13T15:09:40.810091Z",
          "shell.execute_reply.started": "2025-08-13T15:09:36.482634Z"
        },
        "id": "OTM0g1bfe0WV",
        "outputId": "2b9ce0c3-5575-454c-fa63-ef60a2aec167",
        "trusted": true
      },
      "outputs": [
        {
          "name": "stderr",
          "output_type": "stream",
          "text": [
            "[nltk_data] Downloading package punkt_tab to /root/nltk_data...\n",
            "[nltk_data]   Unzipping tokenizers/punkt_tab.zip.\n"
          ]
        }
      ],
      "source": [
        "import nltk\n",
        "nltk.download('punkt_tab')\n",
        "def normalize_and_tokenize(text):\n",
        "    text = text.lower()\n",
        "    text = re.sub(r'[^a-z0-9\\s]', '', text)\n",
        "    return word_tokenize(text)\n",
        "\n",
        "X_train_tokens = [normalize_and_tokenize(doc) for doc in X_train]\n",
        "X_test_tokens = [normalize_and_tokenize(doc) for doc in X_test]"
      ]
    },
    {
      "cell_type": "markdown",
      "metadata": {
        "id": "DsCxvL3ge0WV"
      },
      "source": [
        "### Stemming"
      ]
    },
    {
      "cell_type": "code",
      "execution_count": 9,
      "metadata": {
        "execution": {
          "iopub.execute_input": "2025-08-13T15:09:40.81175Z",
          "iopub.status.busy": "2025-08-13T15:09:40.811471Z",
          "iopub.status.idle": "2025-08-13T15:09:57.539629Z",
          "shell.execute_reply": "2025-08-13T15:09:57.538763Z",
          "shell.execute_reply.started": "2025-08-13T15:09:40.811732Z"
        },
        "id": "8un1sluge0WV",
        "trusted": true
      },
      "outputs": [],
      "source": [
        "stemmer = PorterStemmer()\n",
        "X_train_stemmed = [[stemmer.stem(tok) for tok in doc] for doc in X_train_tokens]\n",
        "X_test_stemmed = [[stemmer.stem(tok) for tok in doc] for doc in X_test_tokens]"
      ]
    },
    {
      "cell_type": "markdown",
      "metadata": {
        "id": "FTf4i5dce0WV"
      },
      "source": [
        "### Lemmatization"
      ]
    },
    {
      "cell_type": "code",
      "execution_count": 10,
      "metadata": {
        "execution": {
          "iopub.execute_input": "2025-08-13T15:09:57.540795Z",
          "iopub.status.busy": "2025-08-13T15:09:57.540534Z",
          "iopub.status.idle": "2025-08-13T15:11:42.326637Z",
          "shell.execute_reply": "2025-08-13T15:11:42.32562Z",
          "shell.execute_reply.started": "2025-08-13T15:09:57.540776Z"
        },
        "id": "CXPnC9cOe0WV",
        "trusted": true
      },
      "outputs": [],
      "source": [
        "nlp = spacy.load('en_core_web_sm', disable=['parser', 'ner'])\n",
        "def lemmatize(tokens):\n",
        "    doc = nlp(' '.join(tokens))\n",
        "    return [token.lemma_ for token in doc]\n",
        "\n",
        "X_train_lemmatized = [lemmatize(doc) for doc in X_train_tokens]\n",
        "X_test_lemmatized = [lemmatize(doc) for doc in X_test_tokens]"
      ]
    },
    {
      "cell_type": "code",
      "execution_count": 12,
      "metadata": {
        "execution": {
          "iopub.execute_input": "2025-08-13T15:11:42.32883Z",
          "iopub.status.busy": "2025-08-13T15:11:42.327747Z",
          "iopub.status.idle": "2025-08-13T15:11:42.367842Z",
          "shell.execute_reply": "2025-08-13T15:11:42.367198Z",
          "shell.execute_reply.started": "2025-08-13T15:11:42.328807Z"
        },
        "id": "6sTwr5cre0WV",
        "trusted": true
      },
      "outputs": [],
      "source": [
        "X_train_text = [' '.join(doc) for doc in X_train_lemmatized]\n",
        "X_test_text = [' '.join(doc) for doc in X_test_lemmatized]"
      ]
    },
    {
      "cell_type": "markdown",
      "metadata": {
        "id": "bQehC9Xee0WV"
      },
      "source": [
        "### One-Hot Encoding"
      ]
    },
    {
      "cell_type": "code",
      "execution_count": 13,
      "metadata": {
        "execution": {
          "iopub.execute_input": "2025-08-13T15:13:30.468676Z",
          "iopub.status.busy": "2025-08-13T15:13:30.468346Z",
          "iopub.status.idle": "2025-08-13T15:13:31.380829Z",
          "shell.execute_reply": "2025-08-13T15:13:31.380156Z",
          "shell.execute_reply.started": "2025-08-13T15:13:30.468652Z"
        },
        "id": "UOPFaO1ce0WW",
        "trusted": true
      },
      "outputs": [],
      "source": [
        "ohe = CountVectorizer(binary=True)\n",
        "X_train_ohe = ohe.fit_transform(X_train_text)\n",
        "X_test_ohe = ohe.transform(X_test_text)"
      ]
    },
    {
      "cell_type": "code",
      "execution_count": 14,
      "metadata": {
        "colab": {
          "base_uri": "https://localhost:8080/"
        },
        "execution": {
          "iopub.execute_input": "2025-08-13T15:18:31.258387Z",
          "iopub.status.busy": "2025-08-13T15:18:31.257662Z",
          "iopub.status.idle": "2025-08-13T15:18:31.296553Z",
          "shell.execute_reply": "2025-08-13T15:18:31.29579Z",
          "shell.execute_reply.started": "2025-08-13T15:18:31.258362Z"
        },
        "id": "3f8iiSwTe0WW",
        "outputId": "6c37c6b5-25ad-42c7-a944-c3e797a1ee49",
        "trusted": true
      },
      "outputs": [
        {
          "name": "stdout",
          "output_type": "stream",
          "text": [
            "Example processed text: I get the dvd very cheap and I m a total drewbie and that s probably the only constellation where this movie could ever interest anyonean early draw movie she s look great and she get a quite lot of really cute scene of she like a shower scene a sexy dance scene quite a number of sexy outfit etc she do never show the friendly charm we know from her more recent moviesthe movie itself be pretty average or subaverage and much more look like be make for the tv than one for the cinema there be no real horror or tension build up and the dialog be often cheesythe most interesting part be probably the end because I honestly do not understand it but maybe there be nothing to understand about it anyway but at least you do not get the end you would be expect and it also come much soon than one would have expectedoverall I think this movie be exclusively for drewbie\n",
            "\n",
            "Words present in first review (One-Hot Encoding):\n",
            "['about', 'also', 'and', 'anyonean', 'anyway', 'at', 'average', 'be', 'because', 'build', 'but', 'charm', 'cheap', 'cheesythe', 'cinema', 'come', 'constellation', 'could', 'cute', 'dance', 'dialog', 'do', 'draw', 'drewbie', 'dvd', 'early', 'end', 'etc', 'ever', 'exclusively', 'expect', 'expectedoverall', 'for', 'friendly', 'from', 'get', 'great', 'have', 'her', 'honestly', 'horror', 'interest', 'interesting', 'it', 'itself', 'know', 'least', 'like', 'look', 'lot', 'make', 'maybe', 'more', 'most', 'movie', 'moviesthe', 'much', 'never', 'no', 'not', 'nothing', 'number', 'of', 'often', 'one', 'only', 'or', 'outfit', 'part', 'pretty', 'probably', 'quite', 'real', 'really', 'recent', 'scene', 'sexy', 'she', 'show', 'shower', 'soon', 'subaverage', 'tension', 'than', 'that', 'the', 'there', 'think', 'this', 'to', 'total', 'tv', 'understand', 'up', 'very', 'we', 'where', 'would', 'you']\n"
          ]
        }
      ],
      "source": [
        "feature_names = ohe.get_feature_names_out()\n",
        "\n",
        "print(\"Example processed text:\", X_train_text[0])\n",
        "\n",
        "print(\"\\nWords present in first review (One-Hot Encoding):\")\n",
        "vector_values = X_train_ohe[0].toarray()[0]\n",
        "\n",
        "present_words = [feature_names[i] for i, val in enumerate(vector_values) if val == 1]\n",
        "print(present_words)"
      ]
    },
    {
      "cell_type": "markdown",
      "metadata": {
        "id": "34F2_2yNe0WW"
      },
      "source": [
        "### Bag-of-Words"
      ]
    },
    {
      "cell_type": "code",
      "execution_count": 15,
      "metadata": {
        "execution": {
          "iopub.execute_input": "2025-08-13T15:11:43.310632Z",
          "iopub.status.busy": "2025-08-13T15:11:43.310303Z",
          "iopub.status.idle": "2025-08-13T15:11:44.239438Z",
          "shell.execute_reply": "2025-08-13T15:11:44.238866Z",
          "shell.execute_reply.started": "2025-08-13T15:11:43.310567Z"
        },
        "id": "yWL8uY5Me0WW",
        "trusted": true
      },
      "outputs": [],
      "source": [
        "bow = CountVectorizer(binary=False)\n",
        "X_train_bow = bow.fit_transform(X_train_text)\n",
        "X_test_bow = bow.transform(X_test_text)"
      ]
    },
    {
      "cell_type": "code",
      "execution_count": 16,
      "metadata": {
        "colab": {
          "base_uri": "https://localhost:8080/"
        },
        "execution": {
          "iopub.execute_input": "2025-08-13T15:20:16.374142Z",
          "iopub.status.busy": "2025-08-13T15:20:16.373854Z",
          "iopub.status.idle": "2025-08-13T15:20:16.413634Z",
          "shell.execute_reply": "2025-08-13T15:20:16.412807Z",
          "shell.execute_reply.started": "2025-08-13T15:20:16.37412Z"
        },
        "id": "gurw8myxe0WW",
        "outputId": "e20f7d8c-fb12-4460-cb65-f1e032f4ce05",
        "trusted": true
      },
      "outputs": [
        {
          "name": "stdout",
          "output_type": "stream",
          "text": [
            "Example processed text: I get the dvd very cheap and I m a total drewbie and that s probably the only constellation where this movie could ever interest anyonean early draw movie she s look great and she get a quite lot of really cute scene of she like a shower scene a sexy dance scene quite a number of sexy outfit etc she do never show the friendly charm we know from her more recent moviesthe movie itself be pretty average or subaverage and much more look like be make for the tv than one for the cinema there be no real horror or tension build up and the dialog be often cheesythe most interesting part be probably the end because I honestly do not understand it but maybe there be nothing to understand about it anyway but at least you do not get the end you would be expect and it also come much soon than one would have expectedoverall I think this movie be exclusively for drewbie\n",
            "\n",
            "BOW vector (first review):\n",
            "                     word  count\n",
            "0                      00      0\n",
            "1                     007      0\n",
            "2                      01      0\n",
            "3                     010      0\n",
            "4               010guinea      0\n",
            "...                   ...    ...\n",
            "46695              zweite      0\n",
            "46696              zwrite      0\n",
            "46697                  zz      0\n",
            "46698               zzzzz      0\n",
            "46699  zzzzzzzzzzzzzzzzzz      0\n",
            "\n",
            "[46700 rows x 2 columns]\n"
          ]
        }
      ],
      "source": [
        "feature_names = bow.get_feature_names_out()\n",
        "\n",
        "vector_values = X_train_bow[0].toarray()[0]\n",
        "\n",
        "df_bow_first_review = pd.DataFrame({\n",
        "    'word': feature_names,\n",
        "    'count': vector_values\n",
        "})\n",
        "\n",
        "print(\"Example processed text:\", X_train_text[0])\n",
        "print(\"\\nBOW vector (first review):\")\n",
        "print(df_bow_first_review)"
      ]
    },
    {
      "cell_type": "markdown",
      "metadata": {
        "id": "SO6YzhDBe0WW"
      },
      "source": [
        "### TF-IDF"
      ]
    },
    {
      "cell_type": "code",
      "execution_count": 17,
      "metadata": {
        "execution": {
          "iopub.execute_input": "2025-08-13T15:11:44.240252Z",
          "iopub.status.busy": "2025-08-13T15:11:44.240017Z",
          "iopub.status.idle": "2025-08-13T15:11:45.205786Z",
          "shell.execute_reply": "2025-08-13T15:11:45.205126Z",
          "shell.execute_reply.started": "2025-08-13T15:11:44.240235Z"
        },
        "id": "nzD84apne0WW",
        "trusted": true
      },
      "outputs": [],
      "source": [
        "tfidf = TfidfVectorizer()\n",
        "X_train_tfidf = tfidf.fit_transform(X_train_text)\n",
        "X_test_tfidf = tfidf.transform(X_test_text)"
      ]
    },
    {
      "cell_type": "code",
      "execution_count": 18,
      "metadata": {
        "colab": {
          "base_uri": "https://localhost:8080/"
        },
        "execution": {
          "iopub.execute_input": "2025-08-13T15:21:12.524172Z",
          "iopub.status.busy": "2025-08-13T15:21:12.523291Z",
          "iopub.status.idle": "2025-08-13T15:21:12.568279Z",
          "shell.execute_reply": "2025-08-13T15:21:12.56735Z",
          "shell.execute_reply.started": "2025-08-13T15:21:12.524138Z"
        },
        "id": "GsoGDrtie0WW",
        "outputId": "9234eb00-8ec6-42cd-b205-b3bf4d94dab7",
        "trusted": true
      },
      "outputs": [
        {
          "name": "stdout",
          "output_type": "stream",
          "text": [
            "Example processed text: I get the dvd very cheap and I m a total drewbie and that s probably the only constellation where this movie could ever interest anyonean early draw movie she s look great and she get a quite lot of really cute scene of she like a shower scene a sexy dance scene quite a number of sexy outfit etc she do never show the friendly charm we know from her more recent moviesthe movie itself be pretty average or subaverage and much more look like be make for the tv than one for the cinema there be no real horror or tension build up and the dialog be often cheesythe most interesting part be probably the end because I honestly do not understand it but maybe there be nothing to understand about it anyway but at least you do not get the end you would be expect and it also come much soon than one would have expectedoverall I think this movie be exclusively for drewbie\n",
            "\n",
            "TF-IDF vector (first review):\n",
            "                  word     tfidf\n",
            "12228          drewbie  0.355016\n",
            "36772             sexy  0.211978\n",
            "36931              she  0.196527\n",
            "7445         cheesythe  0.177508\n",
            "14134  expectedoverall  0.177508\n",
            "...                ...       ...\n",
            "15586     flickssureit  0.000000\n",
            "15587        flicksthe  0.000000\n",
            "15588       flickswith  0.000000\n",
            "15589        flickwell  0.000000\n",
            "15578       flicknothe  0.000000\n",
            "\n",
            "[46700 rows x 2 columns]\n"
          ]
        }
      ],
      "source": [
        "feature_names = tfidf.get_feature_names_out()\n",
        "\n",
        "vector_values = X_train_tfidf[0].toarray()[0]\n",
        "\n",
        "df_tfidf_first_review = pd.DataFrame({\n",
        "    'word': feature_names,\n",
        "    'tfidf': vector_values\n",
        "})\n",
        "\n",
        "df_tfidf_first_review = df_tfidf_first_review.sort_values(by='tfidf', ascending=False)\n",
        "\n",
        "print(\"Example processed text:\", X_train_text[0])\n",
        "print(\"\\nTF-IDF vector (first review):\")\n",
        "print(df_tfidf_first_review)"
      ]
    },
    {
      "cell_type": "code",
      "execution_count": 19,
      "metadata": {
        "colab": {
          "base_uri": "https://localhost:8080/"
        },
        "id": "eaVXCZfhR9QN",
        "outputId": "cb6ec944-75f5-4b01-b690-e0c923b4253a"
      },
      "outputs": [
        {
          "data": {
            "text/plain": [
              "['tfidf.pkl']"
            ]
          },
          "execution_count": 19,
          "metadata": {},
          "output_type": "execute_result"
        }
      ],
      "source": [
        "import joblib\n",
        "joblib.dump(tfidf, 'tfidf.pkl')"
      ]
    },
    {
      "cell_type": "code",
      "execution_count": 20,
      "metadata": {
        "colab": {
          "base_uri": "https://localhost:8080/"
        },
        "execution": {
          "iopub.execute_input": "2025-08-13T15:11:45.206969Z",
          "iopub.status.busy": "2025-08-13T15:11:45.206657Z",
          "iopub.status.idle": "2025-08-13T15:11:45.212033Z",
          "shell.execute_reply": "2025-08-13T15:11:45.211197Z",
          "shell.execute_reply.started": "2025-08-13T15:11:45.206944Z"
        },
        "id": "fWGj04aje0WW",
        "outputId": "a8bcd52c-453f-4e4d-d563-917105351d91",
        "trusted": true
      },
      "outputs": [
        {
          "name": "stdout",
          "output_type": "stream",
          "text": [
            "OHE shape: (5000, 46700) (1000, 46700)\n",
            "BOW shape: (5000, 46700) (1000, 46700)\n",
            "TF-IDF shape: (5000, 46700) (1000, 46700)\n"
          ]
        }
      ],
      "source": [
        "print(\"OHE shape:\", X_train_ohe.shape, X_test_ohe.shape)\n",
        "print(\"BOW shape:\", X_train_bow.shape, X_test_bow.shape)\n",
        "print(\"TF-IDF shape:\", X_train_tfidf.shape, X_test_tfidf.shape)"
      ]
    },
    {
      "cell_type": "code",
      "execution_count": 21,
      "metadata": {
        "colab": {
          "base_uri": "https://localhost:8080/"
        },
        "id": "GKsyorLpf-kh",
        "outputId": "36dc01dd-8235-49d1-bf7f-7a4ed53ecc9f"
      },
      "outputs": [
        {
          "name": "stderr",
          "output_type": "stream",
          "text": [
            "/usr/local/lib/python3.12/dist-packages/keras/src/layers/core/dense.py:93: UserWarning: Do not pass an `input_shape`/`input_dim` argument to a layer. When using Sequential models, prefer using an `Input(shape)` object as the first layer in the model instead.\n",
            "  super().__init__(activity_regularizer=activity_regularizer, **kwargs)\n"
          ]
        },
        {
          "name": "stdout",
          "output_type": "stream",
          "text": [
            "Epoch 1/10\n",
            "\u001b[1m157/157\u001b[0m \u001b[32m━━━━━━━━━━━━━━━━━━━━\u001b[0m\u001b[37m\u001b[0m \u001b[1m223s\u001b[0m 1s/step - accuracy: 0.6219 - loss: 0.6461 - val_accuracy: 0.8550 - val_loss: 0.3444\n",
            "Epoch 2/10\n",
            "\u001b[1m157/157\u001b[0m \u001b[32m━━━━━━━━━━━━━━━━━━━━\u001b[0m\u001b[37m\u001b[0m \u001b[1m240s\u001b[0m 1s/step - accuracy: 0.9299 - loss: 0.2089 - val_accuracy: 0.8610 - val_loss: 0.3382\n",
            "Epoch 3/10\n",
            "\u001b[1m157/157\u001b[0m \u001b[32m━━━━━━━━━━━━━━━━━━━━\u001b[0m\u001b[37m\u001b[0m \u001b[1m169s\u001b[0m 1s/step - accuracy: 0.9859 - loss: 0.0553 - val_accuracy: 0.8510 - val_loss: 0.4184\n",
            "Epoch 4/10\n",
            "\u001b[1m157/157\u001b[0m \u001b[32m━━━━━━━━━━━━━━━━━━━━\u001b[0m\u001b[37m\u001b[0m \u001b[1m198s\u001b[0m 1s/step - accuracy: 0.9957 - loss: 0.0207 - val_accuracy: 0.8430 - val_loss: 0.4763\n",
            "Epoch 5/10\n",
            "\u001b[1m157/157\u001b[0m \u001b[32m━━━━━━━━━━━━━━━━━━━━\u001b[0m\u001b[37m\u001b[0m \u001b[1m183s\u001b[0m 928ms/step - accuracy: 0.9989 - loss: 0.0083 - val_accuracy: 0.8470 - val_loss: 0.5189\n",
            "Epoch 6/10\n",
            "\u001b[1m157/157\u001b[0m \u001b[32m━━━━━━━━━━━━━━━━━━━━\u001b[0m\u001b[37m\u001b[0m \u001b[1m191s\u001b[0m 869ms/step - accuracy: 0.9998 - loss: 0.0043 - val_accuracy: 0.8420 - val_loss: 0.5622\n",
            "Epoch 7/10\n",
            "\u001b[1m157/157\u001b[0m \u001b[32m━━━━━━━━━━━━━━━━━━━━\u001b[0m\u001b[37m\u001b[0m \u001b[1m115s\u001b[0m 736ms/step - accuracy: 0.9992 - loss: 0.0028 - val_accuracy: 0.8410 - val_loss: 0.5962\n",
            "Epoch 8/10\n",
            "\u001b[1m157/157\u001b[0m \u001b[32m━━━━━━━━━━━━━━━━━━━━\u001b[0m\u001b[37m\u001b[0m \u001b[1m140s\u001b[0m 726ms/step - accuracy: 1.0000 - loss: 0.0014 - val_accuracy: 0.8470 - val_loss: 0.6238\n",
            "Epoch 9/10\n",
            "\u001b[1m157/157\u001b[0m \u001b[32m━━━━━━━━━━━━━━━━━━━━\u001b[0m\u001b[37m\u001b[0m \u001b[1m127s\u001b[0m 633ms/step - accuracy: 0.9998 - loss: 0.0013 - val_accuracy: 0.8460 - val_loss: 0.6308\n",
            "Epoch 10/10\n",
            "\u001b[1m157/157\u001b[0m \u001b[32m━━━━━━━━━━━━━━━━━━━━\u001b[0m\u001b[37m\u001b[0m \u001b[1m131s\u001b[0m 558ms/step - accuracy: 0.9997 - loss: 0.0015 - val_accuracy: 0.8460 - val_loss: 0.6445\n",
            "Test Loss: 0.6445\n",
            "Test Accuracy: 0.8460\n"
          ]
        }
      ],
      "source": [
        "import tensorflow as tf\n",
        "from tensorflow.keras.models import Sequential\n",
        "from tensorflow.keras.layers import Dense, Dropout\n",
        "\n",
        "# Define the model\n",
        "model = Sequential()\n",
        "model.add(Dense(128, input_shape=(X_train_tfidf.shape[1],), activation='relu'))\n",
        "model.add(Dropout(0.5))\n",
        "model.add(Dense(64, activation='relu'))\n",
        "model.add(Dropout(0.5))\n",
        "model.add(Dense(1, activation='sigmoid')) # Sigmoid for binary classification\n",
        "\n",
        "# Compile the model\n",
        "model.compile(loss='binary_crossentropy',\n",
        "              optimizer='adam',\n",
        "              metrics=['accuracy'])\n",
        "\n",
        "# Convert target variable to numerical\n",
        "y_train_numerical = (train_df['sentiment'] == 'positive').astype(int)\n",
        "y_test_numerical = (test_df['sentiment'] == 'positive').astype(int)\n",
        "\n",
        "# Train the model\n",
        "history = model.fit(X_train_tfidf, y_train_numerical,\n",
        "                    epochs=10,\n",
        "                    batch_size=32,\n",
        "                    validation_data=(X_test_tfidf, y_test_numerical),\n",
        "                    verbose=1)\n",
        "\n",
        "# Evaluate the model\n",
        "loss, accuracy = model.evaluate(X_test_tfidf, y_test_numerical, verbose=0)\n",
        "print(f\"Test Loss: {loss:.4f}\")\n",
        "print(f\"Test Accuracy: {accuracy:.4f}\")"
      ]
    },
    {
      "cell_type": "code",
      "execution_count": 22,
      "metadata": {
        "colab": {
          "base_uri": "https://localhost:8080/"
        },
        "id": "pDpFgEg8hOIo",
        "outputId": "b13187b9-a747-48a9-f48a-c60e711b2e25"
      },
      "outputs": [
        {
          "name": "stderr",
          "output_type": "stream",
          "text": [
            "WARNING:absl:You are saving your model as an HDF5 file via `model.save()` or `keras.saving.save_model(model)`. This file format is considered legacy. We recommend using instead the native Keras format, e.g. `model.save('my_model.keras')` or `keras.saving.save_model(model, 'my_model.keras')`. \n"
          ]
        }
      ],
      "source": [
        "model.save('imdb_sentiment_analysis_model.h5')"
      ]
    }
  ],
  "metadata": {
    "accelerator": "GPU",
    "colab": {
      "gpuType": "T4",
      "provenance": []
    },
    "kaggle": {
      "accelerator": "nvidiaTeslaT4",
      "dataSources": [
        {
          "datasetId": 134715,
          "sourceId": 320111,
          "sourceType": "datasetVersion"
        }
      ],
      "dockerImageVersionId": 31089,
      "isGpuEnabled": true,
      "isInternetEnabled": false,
      "language": "python",
      "sourceType": "notebook"
    },
    "kernelspec": {
      "display_name": "Python 3",
      "name": "python3"
    },
    "language_info": {
      "codemirror_mode": {
        "name": "ipython",
        "version": 3
      },
      "file_extension": ".py",
      "mimetype": "text/x-python",
      "name": "python",
      "nbconvert_exporter": "python",
      "pygments_lexer": "ipython3",
      "version": "3.11.13"
    }
  },
  "nbformat": 4,
  "nbformat_minor": 0
}
